{
  "nbformat": 4,
  "nbformat_minor": 0,
  "metadata": {
    "colab": {
      "provenance": []
    },
    "kernelspec": {
      "name": "python3",
      "display_name": "Python 3"
    },
    "language_info": {
      "name": "python"
    }
  },
  "cells": [
    {
      "cell_type": "code",
      "execution_count": null,
      "metadata": {
        "id": "xQeiDcJ7XJBu"
      },
      "outputs": [],
      "source": []
    },
    {
      "cell_type": "code",
      "source": [
        "import numpy as np\n",
        "import pandas as pd\n",
        "import tensorflow as tf\n",
        "from tensorflow.keras.models import Model\n",
        "from tensorflow.keras.layers import Input, Dense, Concatenate, Normalization, CategoryEncoding, StringLookup, IntegerLookup\n",
        "from tensorflow.keras.applications import MobileNetV2\n",
        "from tensorflow.keras.layers import GlobalAveragePooling2D\n",
        "from sklearn.model_selection import train_test_split\n",
        "from sklearn.preprocessing import StandardScaler"
      ],
      "metadata": {
        "id": "vU6gBDktJYFD"
      },
      "execution_count": 1,
      "outputs": []
    },
    {
      "cell_type": "code",
      "source": [
        "###  Prepare Data (Image + Tabular)\n",
        "# Load Fashion MNIST data\n",
        "(X_images, y), (_, _) = tf.keras.datasets.fashion_mnist.load_data()\n",
        "X_images = X_images[..., np.newaxis] / 255.0  # Normalize"
      ],
      "metadata": {
        "id": "9Rb21cdrJYwr",
        "colab": {
          "base_uri": "https://localhost:8080/"
        },
        "outputId": "9de368fb-0ec3-4cf2-874e-a21eb8c54dea"
      },
      "execution_count": 2,
      "outputs": [
        {
          "output_type": "stream",
          "name": "stdout",
          "text": [
            "Downloading data from https://storage.googleapis.com/tensorflow/tf-keras-datasets/train-labels-idx1-ubyte.gz\n",
            "\u001b[1m29515/29515\u001b[0m \u001b[32m━━━━━━━━━━━━━━━━━━━━\u001b[0m\u001b[37m\u001b[0m \u001b[1m0s\u001b[0m 0us/step\n",
            "Downloading data from https://storage.googleapis.com/tensorflow/tf-keras-datasets/train-images-idx3-ubyte.gz\n",
            "\u001b[1m26421880/26421880\u001b[0m \u001b[32m━━━━━━━━━━━━━━━━━━━━\u001b[0m\u001b[37m\u001b[0m \u001b[1m0s\u001b[0m 0us/step\n",
            "Downloading data from https://storage.googleapis.com/tensorflow/tf-keras-datasets/t10k-labels-idx1-ubyte.gz\n",
            "\u001b[1m5148/5148\u001b[0m \u001b[32m━━━━━━━━━━━━━━━━━━━━\u001b[0m\u001b[37m\u001b[0m \u001b[1m0s\u001b[0m 1us/step\n",
            "Downloading data from https://storage.googleapis.com/tensorflow/tf-keras-datasets/t10k-images-idx3-ubyte.gz\n",
            "\u001b[1m4422102/4422102\u001b[0m \u001b[32m━━━━━━━━━━━━━━━━━━━━\u001b[0m\u001b[37m\u001b[0m \u001b[1m0s\u001b[0m 0us/step\n"
          ]
        }
      ]
    },
    {
      "cell_type": "code",
      "source": [
        "# Generate synthetic tabular data\n",
        "num_samples = len(X_images)\n",
        "np.random.seed(42)\n",
        "prices = np.random.uniform(10, 100, size=num_samples)\n",
        "ratings = np.random.uniform(1, 5, size=num_samples)\n",
        "categories = np.random.choice(['A', 'B', 'C'], size=num_samples)"
      ],
      "metadata": {
        "id": "HgtliXH_Jd2M"
      },
      "execution_count": 3,
      "outputs": []
    },
    {
      "cell_type": "code",
      "source": [
        "# Create tabular DataFrame\n",
        "df = pd.DataFrame({'price': prices, 'rating': ratings, 'category': categories, 'label': y})"
      ],
      "metadata": {
        "id": "2cuDpVabJieT"
      },
      "execution_count": 4,
      "outputs": []
    },
    {
      "cell_type": "code",
      "source": [
        "# Encode categorical feature\n",
        "df['category_encoded'] = df['category'].map({'A': 0, 'B': 1, 'C': 2})"
      ],
      "metadata": {
        "id": "MPgucZSxJlJ0"
      },
      "execution_count": 5,
      "outputs": []
    },
    {
      "cell_type": "code",
      "source": [
        "# Split into train and test\n",
        "X_tabular = df[['price', 'rating', 'category_encoded']].values\n",
        "y_labels = df['label'].values\n",
        "X_tab_train, X_tab_test, X_img_train, X_img_test, y_train, y_test = train_test_split(\n",
        "    X_tabular, X_images, y_labels, test_size=0.2, random_state=42\n",
        ")"
      ],
      "metadata": {
        "id": "dp06bELhJn2n"
      },
      "execution_count": 6,
      "outputs": []
    },
    {
      "cell_type": "code",
      "source": [
        "# Normalize tabular features\n",
        "scaler = StandardScaler()\n",
        "X_tab_train_scaled = scaler.fit_transform(X_tab_train)\n",
        "X_tab_test_scaled = scaler.transform(X_tab_test)"
      ],
      "metadata": {
        "id": "7W9yJ_pSJp6o"
      },
      "execution_count": 7,
      "outputs": []
    },
    {
      "cell_type": "code",
      "source": [
        "###  Resize Images & Build Image Branch\n",
        "# Resize 28x28x1 grayscale images to 32x32x3 RGB\n",
        "X_img_train_resized = tf.image.resize(X_img_train, [32, 32])\n",
        "X_img_train_rgb = tf.repeat(X_img_train_resized, repeats=3, axis=-1)\n",
        "\n",
        "X_img_test_resized = tf.image.resize(X_img_test, [32, 32])\n",
        "X_img_test_rgb = tf.repeat(X_img_test_resized, repeats=3, axis=-1)"
      ],
      "metadata": {
        "id": "baUnIlQDJyLK"
      },
      "execution_count": 8,
      "outputs": []
    },
    {
      "cell_type": "code",
      "source": [
        "# Image input\n",
        "image_input = Input(shape=(32, 32, 3), name=\"image_input\")\n"
      ],
      "metadata": {
        "id": "6kFsJDTiJ2pU"
      },
      "execution_count": 9,
      "outputs": []
    },
    {
      "cell_type": "code",
      "source": [
        "# Pretrained MobileNetV2\n",
        "base_model = MobileNetV2(weights='imagenet', include_top=False, input_shape=(32, 32, 3))\n",
        "base_model.trainable = False\n",
        "x = base_model(image_input)\n",
        "x = GlobalAveragePooling2D()(x)"
      ],
      "metadata": {
        "colab": {
          "base_uri": "https://localhost:8080/"
        },
        "id": "_M3W1v-jJ7Um",
        "outputId": "75a9bb8d-7ae1-416e-f9fc-331dd47a9408"
      },
      "execution_count": 10,
      "outputs": [
        {
          "output_type": "stream",
          "name": "stderr",
          "text": [
            "<ipython-input-10-2e35407a9436>:2: UserWarning: `input_shape` is undefined or non-square, or `rows` is not in [96, 128, 160, 192, 224]. Weights for input shape (224, 224) will be loaded as the default.\n",
            "  base_model = MobileNetV2(weights='imagenet', include_top=False, input_shape=(32, 32, 3))\n"
          ]
        },
        {
          "output_type": "stream",
          "name": "stdout",
          "text": [
            "Downloading data from https://storage.googleapis.com/tensorflow/keras-applications/mobilenet_v2/mobilenet_v2_weights_tf_dim_ordering_tf_kernels_1.0_224_no_top.h5\n",
            "\u001b[1m9406464/9406464\u001b[0m \u001b[32m━━━━━━━━━━━━━━━━━━━━\u001b[0m\u001b[37m\u001b[0m \u001b[1m0s\u001b[0m 0us/step\n"
          ]
        }
      ]
    },
    {
      "cell_type": "code",
      "source": [
        "### Tabular input\n",
        "tabular_input = Input(shape=(3,), name=\"tabular_input\")\n",
        "t = Dense(64, activation='relu')(tabular_input)\n",
        "t = Dense(32, activation='relu')(t)"
      ],
      "metadata": {
        "id": "iEnbQHmMJ-ZB"
      },
      "execution_count": 11,
      "outputs": []
    },
    {
      "cell_type": "code",
      "source": [
        "### Combine both branches\n",
        "combined = Concatenate()([x, t])\n",
        "z = Dense(64, activation='relu')(combined)\n",
        "z = Dense(32, activation='relu')(z)\n",
        "output = Dense(10, activation='softmax')(z)"
      ],
      "metadata": {
        "id": "9ub4QmB5KDd9"
      },
      "execution_count": 12,
      "outputs": []
    },
    {
      "cell_type": "code",
      "source": [
        "# Final model\n",
        "model = Model(inputs=[image_input, tabular_input], outputs=output)\n",
        "model.compile(optimizer='adam', loss='sparse_categorical_crossentropy', metrics=['accuracy'])"
      ],
      "metadata": {
        "id": "96qv35yfKHtO"
      },
      "execution_count": 13,
      "outputs": []
    },
    {
      "cell_type": "code",
      "source": [
        "### Training\n",
        "history = model.fit(\n",
        "    [X_img_train_rgb, X_tab_train_scaled], y_train,\n",
        "    validation_split=0.1,\n",
        "    epochs=50,\n",
        "    batch_size=32\n",
        ")"
      ],
      "metadata": {
        "id": "PAVOkygkZsba"
      },
      "execution_count": null,
      "outputs": []
    },
    {
      "cell_type": "code",
      "source": [
        "###  Evaluate\n",
        "model.evaluate([X_img_test_rgb, X_tab_test_scaled], y_test)"
      ],
      "metadata": {
        "id": "XdA2V2fxZwdS"
      },
      "execution_count": null,
      "outputs": []
    },
    {
      "cell_type": "code",
      "source": [
        "### Saving the Model\n",
        "model.save(\"models/hybrid_model.h5\")"
      ],
      "metadata": {
        "id": "j9qerfuoXTPO"
      },
      "execution_count": null,
      "outputs": []
    }
  ]
}